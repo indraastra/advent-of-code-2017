{
 "cells": [
  {
   "cell_type": "markdown",
   "metadata": {},
   "source": [
    "# December 2017: Advent of Code"
   ]
  },
  {
   "cell_type": "markdown",
   "metadata": {},
   "source": [
    "## Common imports & library functions"
   ]
  },
  {
   "cell_type": "code",
   "execution_count": 1,
   "metadata": {
    "collapsed": true
   },
   "outputs": [],
   "source": [
    "import doctest\n",
    "import numpy as np"
   ]
  },
  {
   "cell_type": "markdown",
   "metadata": {},
   "source": [
    "## Day 1: Inverse Captcha"
   ]
  },
  {
   "cell_type": "code",
   "execution_count": 40,
   "metadata": {
    "collapsed": true
   },
   "outputs": [],
   "source": [
    "def solve_captcha(captcha, offset=1):\n",
    "    \"\"\"\n",
    "    >>> solve_captcha('1122')\n",
    "    3\n",
    "    >>> solve_captcha('1111')\n",
    "    4\n",
    "    >>> solve_captcha('1234')\n",
    "    0\n",
    "    >>> solve_captcha('91212129')\n",
    "    9\n",
    "    >>> solve_captcha('1212', 2)\n",
    "    6\n",
    "    >>> solve_captcha('1221', 2)\n",
    "    0\n",
    "    >>> solve_captcha('123425', 3)\n",
    "    4\n",
    "    >>> solve_captcha('123123', 3)\n",
    "    12\n",
    "    >>> solve_captcha('12131415', 4)\n",
    "    4\n",
    "    \"\"\"\n",
    "    return sum(int(captcha[i]) for i in range(len(captcha))\n",
    "               if captcha[i] == captcha[i-offset])"
   ]
  },
  {
   "cell_type": "code",
   "execution_count": 44,
   "metadata": {
    "collapsed": false
   },
   "outputs": [
    {
     "ename": "TypeError",
     "evalue": "run_docstring_examples() missing 1 required positional argument: 'globs'",
     "output_type": "error",
     "traceback": [
      "\u001b[0;31m---------------------------------------------------------------------------\u001b[0m",
      "\u001b[0;31mTypeError\u001b[0m                                 Traceback (most recent call last)",
      "\u001b[0;32m<ipython-input-44-016b69fa81d5>\u001b[0m in \u001b[0;36m<module>\u001b[0;34m()\u001b[0m\n\u001b[1;32m      1\u001b[0m \u001b[0;31m# Run unit tests\u001b[0m\u001b[0;34m\u001b[0m\u001b[0;34m\u001b[0m\u001b[0m\n\u001b[0;32m----> 2\u001b[0;31m \u001b[0mdoctest\u001b[0m\u001b[0;34m.\u001b[0m\u001b[0mrun_docstring_examples\u001b[0m\u001b[0;34m(\u001b[0m\u001b[0msolve_captcha\u001b[0m\u001b[0;34m)\u001b[0m\u001b[0;34m\u001b[0m\u001b[0m\n\u001b[0m",
      "\u001b[0;31mTypeError\u001b[0m: run_docstring_examples() missing 1 required positional argument: 'globs'"
     ]
    }
   ],
   "source": [
    "# Run unit tests\n",
    "doctest.run_docstring_examples(solve_captcha, '')"
   ]
  },
  {
   "cell_type": "code",
   "execution_count": 23,
   "metadata": {
    "collapsed": false
   },
   "outputs": [
    {
     "name": "stdout",
     "output_type": "stream",
     "text": [
      "Part 1:  1182\n",
      "Part 2:  1152\n"
     ]
    }
   ],
   "source": [
    "# Final answer\n",
    "with open('day1_captcha.txt') as f:\n",
    "    captcha = f.read().strip()\n",
    "    print('Part 1: ', solve_captcha(captcha))\n",
    "    print('Part 2: ', solve_captcha(captcha, len(captcha)//2))"
   ]
  },
  {
   "cell_type": "markdown",
   "metadata": {},
   "source": [
    "## Day 2: Corruption Checksum"
   ]
  },
  {
   "cell_type": "code",
   "execution_count": 37,
   "metadata": {
    "collapsed": true
   },
   "outputs": [],
   "source": [
    "def minmax_sum(row):\n",
    "    return row.max() - row.min()\n",
    "\n",
    "def even_quotient(row):\n",
    "    for i in range(len(row)):\n",
    "        for j in range(len(row)):\n",
    "            if i == j: continue\n",
    "            if row[i] % row[j] == 0: return row[i] // row[j]\n",
    "\n",
    "def solve_checksum(spreadsheet, row_checksum=minmax_sum):\n",
    "    \"\"\"\n",
    "    >>> solve_checksum('1 1\\\\n2 2', minmax_sum)\n",
    "    0\n",
    "    >>> solve_checksum('40 41\\\\n1 0 3 9', minmax_sum)\n",
    "    10\n",
    "    >>> solve_checksum('5 1 9 5\\\\n7 5 3\\\\n2 4 6 8', minmax_sum)\n",
    "    18\n",
    "    >>> solve_checksum('5 9 2 8\\\\n9 4 7 3\\\\n3 8 6 5', even_quotient)\n",
    "    9\n",
    "    \"\"\"\n",
    "    np_spreadsheet = [np.array([int(c) for c in l.split()]) for l in spreadsheet.splitlines()]\n",
    "    return sum(row_checksum(row) for row in np_spreadsheet)"
   ]
  },
  {
   "cell_type": "code",
   "execution_count": 38,
   "metadata": {
    "collapsed": false
   },
   "outputs": [
    {
     "data": {
      "text/plain": [
       "TestResults(failed=0, attempted=4)"
      ]
     },
     "execution_count": 38,
     "metadata": {},
     "output_type": "execute_result"
    }
   ],
   "source": [
    "# Run unit tests\n",
    "doctest.testmod()"
   ]
  },
  {
   "cell_type": "code",
   "execution_count": 39,
   "metadata": {
    "collapsed": false
   },
   "outputs": [
    {
     "name": "stdout",
     "output_type": "stream",
     "text": [
      "Part 1:  47136\n",
      "Part 2:  250\n"
     ]
    }
   ],
   "source": [
    "# Final answer\n",
    "with open('day2.txt') as f:\n",
    "    spreadsheet = f.read().strip()\n",
    "    print('Part 1: ', solve_checksum(spreadsheet, row_checksum=minmax_sum))\n",
    "    print('Part 2: ', solve_checksum(spreadsheet, row_checksum=even_quotient))"
   ]
  },
  {
   "cell_type": "code",
   "execution_count": null,
   "metadata": {
    "collapsed": true
   },
   "outputs": [],
   "source": []
  }
 ],
 "metadata": {
  "kernelspec": {
   "display_name": "Python 3",
   "language": "python",
   "name": "python3"
  },
  "language_info": {
   "codemirror_mode": {
    "name": "ipython",
    "version": 3
   },
   "file_extension": ".py",
   "mimetype": "text/x-python",
   "name": "python",
   "nbconvert_exporter": "python",
   "pygments_lexer": "ipython3",
   "version": "3.5.1"
  }
 },
 "nbformat": 4,
 "nbformat_minor": 0
}
