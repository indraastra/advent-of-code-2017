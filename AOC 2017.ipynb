{
 "cells": [
  {
   "cell_type": "markdown",
   "metadata": {},
   "source": [
    "# December 2017: Advent of Code"
   ]
  },
  {
   "cell_type": "markdown",
   "metadata": {},
   "source": [
    "## Common imports & library functions"
   ]
  },
  {
   "cell_type": "code",
   "execution_count": 1,
   "metadata": {
    "collapsed": true
   },
   "outputs": [],
   "source": [
    "import doctest\n",
    "import numpy as np"
   ]
  },
  {
   "cell_type": "markdown",
   "metadata": {},
   "source": [
    "## Day 1: Inverse Captcha"
   ]
  },
  {
   "cell_type": "code",
   "execution_count": 18,
   "metadata": {
    "collapsed": true
   },
   "outputs": [],
   "source": [
    "def solve_captcha(captcha, offset=1):\n",
    "    \"\"\"\n",
    "    >>> solve_captcha('1122')\n",
    "    3\n",
    "    >>> solve_captcha('1111')\n",
    "    4\n",
    "    >>> solve_captcha('1234')\n",
    "    0\n",
    "    >>> solve_captcha('91212129')\n",
    "    9\n",
    "    >>> solve_captcha('1212', 2)\n",
    "    6\n",
    "    >>> solve_captcha('1221', 2)\n",
    "    0\n",
    "    >>> solve_captcha('123425', 3)\n",
    "    4\n",
    "    >>> solve_captcha('123123', 3)\n",
    "    12\n",
    "    >>> solve_captcha('12131415', 4)\n",
    "    4\n",
    "    \"\"\"\n",
    "    np_captcha = np.array([int(c) for c in captcha])\n",
    "    mask = [np_captcha[i] == np_captcha[i-offset] for i in range(len(captcha))]\n",
    "    return np_captcha[mask].sum()"
   ]
  },
  {
   "cell_type": "code",
   "execution_count": 19,
   "metadata": {
    "collapsed": false
   },
   "outputs": [
    {
     "data": {
      "text/plain": [
       "TestResults(failed=0, attempted=9)"
      ]
     },
     "execution_count": 19,
     "metadata": {},
     "output_type": "execute_result"
    }
   ],
   "source": [
    "# Run unit tests\n",
    "doctest.testmod()"
   ]
  },
  {
   "cell_type": "code",
   "execution_count": 23,
   "metadata": {
    "collapsed": false
   },
   "outputs": [
    {
     "name": "stdout",
     "output_type": "stream",
     "text": [
      "Part 1:  1182\n",
      "Part 2:  1152\n"
     ]
    }
   ],
   "source": [
    "# Final answer\n",
    "with open('day1_captcha.txt') as f:\n",
    "    captcha = f.read().strip()\n",
    "    print('Part 1: ', solve_captcha(captcha))\n",
    "    print('Part 2: ', solve_captcha(captcha, len(captcha)//2))"
   ]
  },
  {
   "cell_type": "markdown",
   "metadata": {},
   "source": [
    "## Day 2: Corruption Checksum"
   ]
  },
  {
   "cell_type": "code",
   "execution_count": 31,
   "metadata": {
    "collapsed": true
   },
   "outputs": [],
   "source": [
    "def minmax_sum(row):\n",
    "    return row.max() - row.min()\n",
    "\n",
    "def even_quotient(row):\n",
    "    for i in range(len(row)):\n",
    "        for j in range(len(row)):\n",
    "            if i == j: continue\n",
    "            if row[i] % row[j] == 0: return row[i] / row[j]\n",
    "\n",
    "def solve_checksum(spreadsheet, row_checksum=minmax_sum):\n",
    "    \"\"\"\n",
    "    >>> solve_checksum('1 1\\\\n2 2')\n",
    "    0\n",
    "    >>> solve_checksum('40 41\\\\n1 0 3 9')\n",
    "    10\n",
    "    >>> solve_checksum('5 1 9 5\\\\n7 5 3\\\\n2 4 6 8')\n",
    "    18\n",
    "    >>> solve_checksum('5 9 2 8\\\\n9 4 7 3\\\\n3 8 6 5')\n",
    "    9\n",
    "    \"\"\"\n",
    "    np_spreadsheet = [np.array([int(c) for c in l.split()]) for l in spreadsheet.splitlines()]\n",
    "    return sum(row_checksum(row) for row in np_spreadsheet)"
   ]
  },
  {
   "cell_type": "code",
   "execution_count": 32,
   "metadata": {
    "collapsed": false
   },
   "outputs": [
    {
     "name": "stdout",
     "output_type": "stream",
     "text": [
      "**********************************************************************\n",
      "File \"__main__\", line 18, in __main__.solve_checksum\n",
      "Failed example:\n",
      "    solve_checksum('5 9 2 8\\n9 4 7 3\\n3 8 6 5')\n",
      "Expected:\n",
      "    9\n",
      "Got:\n",
      "    18\n",
      "**********************************************************************\n",
      "1 items had failures:\n",
      "   1 of   4 in __main__.solve_checksum\n",
      "***Test Failed*** 1 failures.\n"
     ]
    },
    {
     "data": {
      "text/plain": [
       "TestResults(failed=1, attempted=4)"
      ]
     },
     "execution_count": 32,
     "metadata": {},
     "output_type": "execute_result"
    }
   ],
   "source": [
    "# Run unit tests\n",
    "doctest.testmod()"
   ]
  },
  {
   "cell_type": "code",
   "execution_count": 26,
   "metadata": {
    "collapsed": false
   },
   "outputs": [
    {
     "name": "stdout",
     "output_type": "stream",
     "text": [
      "Part 1:  47136\n"
     ]
    }
   ],
   "source": [
    "# Final answer\n",
    "with open('day2.txt') as f:\n",
    "    spreadsheet = f.read().strip()\n",
    "    print('Part 1: ', solve_checksum(spreadsheet, row_checksum=minmax_sum))\n",
    "    print('Part 2: ', solve_checksum(spreadsheet, row_checksum=even_quotient))"
   ]
  },
  {
   "cell_type": "code",
   "execution_count": null,
   "metadata": {
    "collapsed": true
   },
   "outputs": [],
   "source": []
  }
 ],
 "metadata": {
  "kernelspec": {
   "display_name": "Python 3",
   "language": "python",
   "name": "python3"
  },
  "language_info": {
   "codemirror_mode": {
    "name": "ipython",
    "version": 3
   },
   "file_extension": ".py",
   "mimetype": "text/x-python",
   "name": "python",
   "nbconvert_exporter": "python",
   "pygments_lexer": "ipython3",
   "version": "3.5.1"
  }
 },
 "nbformat": 4,
 "nbformat_minor": 0
}
