{
 "cells": [
  {
   "cell_type": "markdown",
   "metadata": {},
   "source": [
    "# December 2017: Advent of Code"
   ]
  },
  {
   "cell_type": "markdown",
   "metadata": {},
   "source": [
    "## Common imports & library functions"
   ]
  },
  {
   "cell_type": "code",
   "execution_count": 1,
   "metadata": {
    "collapsed": true
   },
   "outputs": [],
   "source": [
    "from collections import defaultdict, namedtuple\n",
    "import doctest\n",
    "import heapq\n",
    "import itertools\n",
    "import math\n",
    "import numpy as np\n",
    "import re\n",
    "\n",
    "# Cribbed from norvig@\n",
    "def nth(iterable, n, default=None):\n",
    "    \"Returns the nth item of iterable, or a default value\"\n",
    "    return next(itertools.islice(iterable, n, None), default)\n",
    "\n",
    "def np_impulse(shape, idx, value, dtype=np.int):\n",
    "    data = np.zeros(shape, dtype=dtype)\n",
    "    data[idx] = value\n",
    "    return data"
   ]
  },
  {
   "cell_type": "markdown",
   "metadata": {},
   "source": [
    "## Day 1: Inverse Captcha"
   ]
  },
  {
   "cell_type": "code",
   "execution_count": null,
   "metadata": {
    "collapsed": true
   },
   "outputs": [],
   "source": [
    "def solve_captcha(captcha, offset=1):\n",
    "    \"\"\"\n",
    "    >>> solve_captcha('1122')\n",
    "    3\n",
    "    >>> solve_captcha('1111')\n",
    "    4\n",
    "    >>> solve_captcha('1234')\n",
    "    0\n",
    "    >>> solve_captcha('91212129')\n",
    "    9\n",
    "    >>> solve_captcha('1212', 2)\n",
    "    6\n",
    "    >>> solve_captcha('1221', 2)\n",
    "    0\n",
    "    >>> solve_captcha('123425', 3)\n",
    "    4\n",
    "    >>> solve_captcha('123123', 3)\n",
    "    12\n",
    "    >>> solve_captcha('12131415', 4)\n",
    "    4\n",
    "    \"\"\"\n",
    "    return sum(int(captcha[i]) for i in range(len(captcha))\n",
    "               if captcha[i] == captcha[i-offset])"
   ]
  },
  {
   "cell_type": "code",
   "execution_count": null,
   "metadata": {
    "collapsed": false
   },
   "outputs": [],
   "source": [
    "# Run unit tests\n",
    "doctest.testmod()"
   ]
  },
  {
   "cell_type": "code",
   "execution_count": null,
   "metadata": {
    "collapsed": false
   },
   "outputs": [],
   "source": [
    "# Final answer\n",
    "with open('day1_captcha.txt') as f:\n",
    "    captcha = f.read().strip()\n",
    "    print('Part 1: ', solve_captcha(captcha))\n",
    "    print('Part 2: ', solve_captcha(captcha, len(captcha)//2))"
   ]
  },
  {
   "cell_type": "markdown",
   "metadata": {},
   "source": [
    "## Day 2: Corruption Checksum"
   ]
  },
  {
   "cell_type": "code",
   "execution_count": null,
   "metadata": {
    "collapsed": true
   },
   "outputs": [],
   "source": [
    "def minmax_sum(row):\n",
    "    return max(row) - min(row)\n",
    "\n",
    "def even_quotient(row):\n",
    "    for i in range(len(row)):\n",
    "        for j in range(len(row)):\n",
    "            if i == j: continue\n",
    "            if row[i] % row[j] == 0: return row[i] // row[j]\n",
    "\n",
    "def solve_checksum(spreadsheet, row_checksum=minmax_sum):\n",
    "    \"\"\"\n",
    "    >>> solve_checksum('1 1\\\\n2 2', minmax_sum)\n",
    "    0\n",
    "    >>> solve_checksum('40 41\\\\n1 0 3 9', minmax_sum)\n",
    "    10\n",
    "    >>> solve_checksum('5 1 9 5\\\\n7 5 3\\\\n2 4 6 8', minmax_sum)\n",
    "    18\n",
    "    >>> solve_checksum('5 5\\\\n2 2\\\\n3 3', even_quotient)\n",
    "    3\n",
    "    >>> solve_checksum('5 9 2 8\\\\n9 4 7 3\\\\n3 8 6 5', even_quotient)\n",
    "    9\n",
    "    \"\"\"\n",
    "    np_spreadsheet = [[int(c) for c in l.split()] \n",
    "                      for l in spreadsheet.splitlines()]\n",
    "    return sum(row_checksum(row) for row in np_spreadsheet)"
   ]
  },
  {
   "cell_type": "code",
   "execution_count": null,
   "metadata": {
    "collapsed": false
   },
   "outputs": [],
   "source": [
    "# Run unit tests\n",
    "doctest.testmod()"
   ]
  },
  {
   "cell_type": "code",
   "execution_count": null,
   "metadata": {
    "collapsed": false
   },
   "outputs": [],
   "source": [
    "# Final answer\n",
    "with open('day2.txt') as f:\n",
    "    spreadsheet = f.read().strip()\n",
    "    print('Part 1: ', solve_checksum(spreadsheet, row_checksum=minmax_sum))\n",
    "    print('Part 2: ', solve_checksum(spreadsheet, row_checksum=even_quotient))"
   ]
  },
  {
   "cell_type": "markdown",
   "metadata": {},
   "source": [
    "## Day 3: Spiral Memory\n",
    "\n",
    "```\n",
    "37  36  35  34  33  32  31\n",
    "38  17  16  15  14  13  30\n",
    "39  18   5   4   3  12  29\n",
    "40  19   6   1   2  11  28\n",
    "41  20   7   8   9  10  27\n",
    "42  21  22  23  24  25  26\n",
    "43  44  45  46  47  48  49 ...\n",
    "```"
   ]
  },
  {
   "cell_type": "code",
   "execution_count": null,
   "metadata": {
    "collapsed": false
   },
   "outputs": [],
   "source": [
    "def spiral_to_ring_size(spiral_coord):\n",
    "    return math.ceil(math.sqrt(spiral_coord)) | 1\n",
    "\n",
    "def ring_size_to_ring(ring_size):\n",
    "    return ring_size // 2 + 1\n",
    "\n",
    "def spiral_to_ring(spiral_coord):\n",
    "    \"\"\"\n",
    "    Returns the ring that the coordinate appears in, starting with 1 as the center.\n",
    "    \n",
    "    >>> spiral_to_ring(1)\n",
    "    1\n",
    "    >>> spiral_to_ring(4)\n",
    "    2\n",
    "    >>> spiral_to_ring(20)\n",
    "    3\n",
    "    >>> spiral_to_ring(49)\n",
    "    4\n",
    "    \"\"\"\n",
    "    return ring_size_to_ring(spiral_to_ring_size(spiral_coord))\n",
    "\n",
    "_right = lambda r: ((r-1, i) for i in range(-r+2, r))\n",
    "_top = lambda r: ((i, r-1) for i in range(r-2, -r, -1))\n",
    "_left = lambda r: ((-r+1, i) for i in range(r-2, -r, -1))\n",
    "_bottom = lambda r: ((i, -r+1) for i in range(-r+2, r))\n",
    "def ring_to_cartesians(ring):\n",
    "    \"\"\"\n",
    "    Returns the cartesian coordinates for cells in the ring in CCW order,\n",
    "    starting from the cell just above the bottom-right corner.\n",
    "    \n",
    "    >>> list(ring_to_cartesians(1))\n",
    "    [(0, 0)]\n",
    "    >>> list(ring_to_cartesians(2))\n",
    "    [(1, 0), (1, 1), (0, 1), (-1, 1), (-1, 0), (-1, -1), (0, -1), (1, -1)]\n",
    "    >>> list(ring_to_cartesians(3))\n",
    "    [(2, -1), (2, 0), (2, 1), (2, 2), (1, 2), (0, 2), (-1, 2), (-2, 2), (-2, 1), (-2, 0), (-2, -1), (-2, -2), (-1, -2), (0, -2), (1, -2), (2, -2)]\n",
    "    \"\"\"\n",
    "    if ring == 1:\n",
    "        return [(0, 0)]\n",
    "    return itertools.chain(_right(ring), _top(ring), _left(ring), _bottom(ring))\n",
    "\n",
    "def spiral_to_cartesian(spiral_coord):\n",
    "    \"\"\"\n",
    "    >>> spiral_to_cartesian(1)\n",
    "    (0, 0)\n",
    "    >>> spiral_to_cartesian(9)\n",
    "    (1, -1)\n",
    "    >>> spiral_to_cartesian(7)\n",
    "    (-1, -1)\n",
    "    >>> spiral_to_cartesian(28)\n",
    "    (3, 0)\n",
    "    \"\"\"\n",
    "    ring_size = spiral_to_ring_size(spiral_coord)\n",
    "    ring = ring_size_to_ring(ring_size)\n",
    "    inner_ring_size = max(ring_size-2, 0) ** 2\n",
    "    ring_coord = spiral_coord - inner_ring_size - 1\n",
    "    return nth(ring_to_cartesians(ring), ring_coord)\n",
    "\n",
    "def solve_shortest_distance(spiral_coord):\n",
    "    \"\"\"\n",
    "    >>> solve_shortest_distance(1)\n",
    "    0\n",
    "    >>> solve_shortest_distance(12)\n",
    "    3\n",
    "    >>> solve_shortest_distance(23)\n",
    "    2\n",
    "    >>> solve_shortest_distance(1024)\n",
    "    31\n",
    "    \"\"\"\n",
    "    x, y = spiral_to_cartesian(spiral_coord)\n",
    "    return abs(x) + abs(y)"
   ]
  },
  {
   "cell_type": "code",
   "execution_count": null,
   "metadata": {
    "collapsed": false
   },
   "outputs": [],
   "source": [
    "spiral_to_cartesian(1)"
   ]
  },
  {
   "cell_type": "code",
   "execution_count": null,
   "metadata": {
    "collapsed": false
   },
   "outputs": [],
   "source": [
    "# Run unit tests\n",
    "doctest.testmod()"
   ]
  },
  {
   "cell_type": "code",
   "execution_count": null,
   "metadata": {
    "collapsed": false
   },
   "outputs": [],
   "source": [
    "# Final answer\n",
    "print('Part 1: ', solve_shortest_distance(368078))"
   ]
  },
  {
   "cell_type": "code",
   "execution_count": null,
   "metadata": {
    "collapsed": false
   },
   "outputs": [],
   "source": [
    "# Part 2 will require a total reimplementation...\n",
    "def generate_spiral():\n",
    "    ring = 1\n",
    "    while True:\n",
    "        for cartesian_coords in ring_to_cartesians(ring):\n",
    "            yield cartesian_coords\n",
    "        ring += 1\n",
    "\n",
    "def solve_shortest_distance2(spiral_coord):\n",
    "    \"\"\"\n",
    "    >>> solve_shortest_distance2(1)\n",
    "    0\n",
    "    >>> solve_shortest_distance2(12)\n",
    "    3\n",
    "    >>> solve_shortest_distance2(23)\n",
    "    2\n",
    "    >>> solve_shortest_distance2(1024)\n",
    "    31\n",
    "    \"\"\"\n",
    "    (x, y) = nth(generate_spiral(), spiral_coord - 1)\n",
    "    return abs(x) + abs(y)"
   ]
  },
  {
   "cell_type": "code",
   "execution_count": null,
   "metadata": {
    "collapsed": false
   },
   "outputs": [],
   "source": [
    "doctest.testmod()"
   ]
  },
  {
   "cell_type": "code",
   "execution_count": null,
   "metadata": {
    "collapsed": false
   },
   "outputs": [],
   "source": [
    "# Final answer part 1 redux\n",
    "print('Part 1: ', solve_shortest_distance2(368078))"
   ]
  },
  {
   "cell_type": "code",
   "execution_count": null,
   "metadata": {
    "collapsed": false
   },
   "outputs": [],
   "source": [
    "# Now, on to part 2\n",
    "def sum_neighbors(grid, xy):\n",
    "    x, y = xy\n",
    "    deltas = [(-1, -1), (-1, 0), (-1, 1), (0, 1), (1, 1), (1, 0), (1, -1), (0, -1)]\n",
    "    return sum(grid[(x+dx, y+dy)] for (dx, dy) in deltas)\n",
    "\n",
    "def solve_first_larger_than(seek_value):\n",
    "    \"\"\"\n",
    "    >>> solve_first_larger_than(3)\n",
    "    4\n",
    "    >>> solve_first_larger_than(12)\n",
    "    23\n",
    "    >>> solve_first_larger_than(23)\n",
    "    25\n",
    "    >>> solve_first_larger_than(500)\n",
    "    747\n",
    "    \"\"\"\n",
    "    grid = defaultdict(int)\n",
    "    for xy in generate_spiral():\n",
    "        total = sum_neighbors(grid, xy) or 1\n",
    "        if total > seek_value:\n",
    "            return total\n",
    "        grid[xy] = total"
   ]
  },
  {
   "cell_type": "code",
   "execution_count": null,
   "metadata": {
    "collapsed": false
   },
   "outputs": [],
   "source": [
    "doctest.testmod()"
   ]
  },
  {
   "cell_type": "code",
   "execution_count": null,
   "metadata": {
    "collapsed": false
   },
   "outputs": [],
   "source": [
    "# Final answer part 2\n",
    "print('Part 2: ', solve_first_larger_than(368078))"
   ]
  },
  {
   "cell_type": "markdown",
   "metadata": {},
   "source": [
    "## Day 4: High-Entropy Passphrases"
   ]
  },
  {
   "cell_type": "code",
   "execution_count": null,
   "metadata": {
    "collapsed": true
   },
   "outputs": [],
   "source": [
    "identity = lambda x: x\n",
    "split_whitespace = lambda pp: pp.split(' ')\n",
    "normalize = lambda t: ''.join(sorted(t))\n",
    "\n",
    "def is_valid_passphrase(pp, tokenizer=split_whitespace, normalizer=identity):\n",
    "    \"\"\"\n",
    "    >>> is_valid_passphrase(\"aa bb cc dd ee\", split_whitespace)\n",
    "    True\n",
    "    >>> is_valid_passphrase(\"aa bb cc dd aa\", split_whitespace)\n",
    "    False\n",
    "    >>> is_valid_passphrase(\"aa bb cc dd aaa\", split_whitespace)\n",
    "    True\n",
    "    >>> is_valid_passphrase(\"abcde fghij\", split_whitespace, normalize)\n",
    "    True\n",
    "    >>> is_valid_passphrase(\"abcde xyz ecdab\", split_whitespace, normalize)\n",
    "    False\n",
    "    >>> is_valid_passphrase(\"a ab abc abd abf abj\", split_whitespace, normalize)\n",
    "    True\n",
    "    >>> is_valid_passphrase(\"iiii oiii ooii oooi oooo\", split_whitespace, normalize)\n",
    "    True\n",
    "    >>> is_valid_passphrase(\"oiii ioii iioi iiio\", split_whitespace, normalize)\n",
    "    False\n",
    "    \"\"\"\n",
    "    tokens = [normalizer(t) for t in tokenizer(pp)]\n",
    "    return len(set(tokens)) == len(tokens)"
   ]
  },
  {
   "cell_type": "code",
   "execution_count": null,
   "metadata": {
    "collapsed": false
   },
   "outputs": [],
   "source": [
    "doctest.testmod()"
   ]
  },
  {
   "cell_type": "code",
   "execution_count": null,
   "metadata": {
    "collapsed": false
   },
   "outputs": [],
   "source": [
    "# Final answer\n",
    "with open('day4.txt') as f:\n",
    "    pps = [l.strip() for l in f]\n",
    "    print('Part 1: ', sum(is_valid_passphrase(pp) for pp in pps))\n",
    "    print('Part 2: ', sum(is_valid_passphrase(pp, normalizer=normalize) for pp in pps))"
   ]
  },
  {
   "cell_type": "markdown",
   "metadata": {},
   "source": [
    "## Day 5: A Maze of Twisty Trampolines, All Alike"
   ]
  },
  {
   "cell_type": "code",
   "execution_count": null,
   "metadata": {
    "collapsed": false
   },
   "outputs": [],
   "source": [
    "def increment(maze, pos): maze[pos] += 1\n",
    "def three_or_more(maze, pos): maze[pos] += (1 if maze[pos] < 3 else -1)\n",
    "    \n",
    "def solve_maze(maze, pos=0, update=increment):\n",
    "    \"\"\"\n",
    "    >>> solve_maze([0, 3,  0,  1,  -3], update=increment)\n",
    "    5\n",
    "    >>> solve_maze([0, 3,  0,  1,  -3], update=three_or_more)\n",
    "    10\n",
    "    \"\"\"\n",
    "    t = 0\n",
    "    maze_size = len(maze)\n",
    "    while pos < maze_size:\n",
    "        offset = maze[pos]\n",
    "        update(maze, pos)\n",
    "        pos += offset\n",
    "        t += 1\n",
    "    return t"
   ]
  },
  {
   "cell_type": "code",
   "execution_count": null,
   "metadata": {
    "collapsed": false
   },
   "outputs": [],
   "source": [
    "doctest.testmod()"
   ]
  },
  {
   "cell_type": "code",
   "execution_count": null,
   "metadata": {
    "collapsed": false
   },
   "outputs": [],
   "source": [
    "# Final answer\n",
    "with open('day5.txt') as f:\n",
    "    maze = [int(l) for l in f]\n",
    "    %time print('Part 1: ', solve_maze(maze.copy(), update=increment))\n",
    "    %time print('Part 2: ', solve_maze(maze.copy(), update=three_or_more))"
   ]
  },
  {
   "cell_type": "markdown",
   "metadata": {},
   "source": [
    "## Day 6: Memory Reallocation"
   ]
  },
  {
   "cell_type": "code",
   "execution_count": null,
   "metadata": {
    "collapsed": true
   },
   "outputs": [],
   "source": [
    "def _spread(N, start, amount):\n",
    "    \"\"\"\n",
    "    >>> print(_spread(4, 0, 7))\n",
    "    [2 2 2 1]\n",
    "    >>> print(_spread(4, 3, 7))\n",
    "    [2 2 1 2]\n",
    "    >>> print(_spread(5, 0, 17))\n",
    "    [4 4 3 3 3]\n",
    "    \"\"\"\n",
    "    a = np.full(N, amount // N)\n",
    "    a[:(amount % N)] += 1\n",
    "    return np.roll(a, start)\n",
    "\n",
    "def _redistribute(banks, pos):\n",
    "    \"\"\"\n",
    "    >>> print(_redistribute(np.array([0, 2, 7, 0]), 2))\n",
    "    [2 4 1 2]\n",
    "    >>> print(_redistribute(np.array([2, 4, 1, 2]), 1))\n",
    "    [3 1 2 3]\n",
    "    >>> print(_redistribute(np.array([0, 2, 7, 1]), 3))\n",
    "    [1 2 7 0]\n",
    "    \"\"\"\n",
    "    N = len(banks)\n",
    "    blocks = banks[pos]\n",
    "    return (banks \n",
    "            - np_impulse(N, pos, blocks) \n",
    "            + _spread(N, pos + 1, blocks))\n",
    "    \n",
    "def reallocate(banks):\n",
    "    \"\"\"\n",
    "    >>> banks = np.array([0, 2, 7, 0])\n",
    "    >>> reallocate((0, 2, 7, 0))\n",
    "    (2, 4, 1, 2)\n",
    "    >>> reallocate((2, 4, 1, 2))\n",
    "    (3, 1, 2, 3)\n",
    "    \"\"\"\n",
    "    return tuple(_redistribute(np.array(banks), np.argmax(banks)))\n",
    "\n",
    "def solve_reallocate_cycles(banks):\n",
    "    \"\"\"\n",
    "    >>> banks = np.array([0, 2, 7, 0])\n",
    "    >>> solve_reallocate_cycles((0, 2, 7, 0))\n",
    "    (5, 4)\n",
    "    \"\"\"\n",
    "    seen = {}\n",
    "    for time in itertools.count(0):\n",
    "        if banks in seen:\n",
    "            return time, time - seen[banks]\n",
    "        seen[banks] = time\n",
    "        banks = reallocate(banks)"
   ]
  },
  {
   "cell_type": "code",
   "execution_count": null,
   "metadata": {
    "collapsed": false
   },
   "outputs": [],
   "source": [
    "doctest.testmod(verbose=True)"
   ]
  },
  {
   "cell_type": "code",
   "execution_count": null,
   "metadata": {
    "collapsed": false
   },
   "outputs": [],
   "source": [
    "# Final answer\n",
    "with open('day6.txt') as f:\n",
    "    banks = tuple(int(b) for b in f.read().strip().split('\\t'))\n",
    "    %time (time, cycles) = solve_reallocate_cycles(banks)\n",
    "    print('Part 1: ', time)\n",
    "    print('Part 2: ', cycles)"
   ]
  },
  {
   "cell_type": "markdown",
   "metadata": {
    "collapsed": true
   },
   "source": [
    "## Day 7: Recursive Circus"
   ]
  },
  {
   "cell_type": "code",
   "execution_count": 153,
   "metadata": {
    "collapsed": false
   },
   "outputs": [],
   "source": [
    "node_re = re.compile(r\"([a-z]+) \\(([\\-0-9]+)\\)(?: -> ([\\w, ]+))?\")\n",
    "\n",
    "Node = namedtuple('Node', ['id', 'weight', 'children'])\n",
    "Tree = namedtuple('Tree', ['root', 'nodes'])\n",
    "\n",
    "def parse_node(text):\n",
    "    \"\"\"\n",
    "    >>> parse_node(\"ktlj (57)\")\n",
    "    Node(id='ktlj', weight=57, children=[])\n",
    "    >>> parse_node(\"xyz (-7) -> abc, def, ghi\")\n",
    "    Node(id='xyz', weight=-7, children=['abc', 'def', 'ghi'])\n",
    "    \"\"\"\n",
    "    node_id, weight, children = node_re.match(text).groups()\n",
    "    weight = int(weight)\n",
    "    children = [c.strip() for c in children.split(',')] if children else []\n",
    "    return Node(node_id, weight, children)\n",
    "\n",
    "def parse_tree(text):\n",
    "    \"\"\"\n",
    "    >>> tree = parse_tree(\"ktlj (57)\\\\nxyz (-7) -> ktlj\")\n",
    "    >>> tree.root\n",
    "    'xyz'\n",
    "    \"\"\"\n",
    "    nodes = {}\n",
    "    for line in text.splitlines():\n",
    "        line = line.strip()\n",
    "        if not line: continue\n",
    "        node = parse_node(line)\n",
    "        nodes[node.id] = node\n",
    "    root = get_root(nodes)\n",
    "    return Tree(root, nodes)\n",
    "\n",
    "\n",
    "def tree_weight(tree, node_id=None):\n",
    "    \"\"\"\n",
    "    >>> t = Tree('xyz', {'xyz': Node('xyz', 10, ['abc']), 'abc': Node('abc', -2, [])})\n",
    "    >>> tree_weight(t, 'xyz')\n",
    "    8\n",
    "    >>> tree_weight(t, 'abc')\n",
    "    -2\n",
    "    >>> tree_weight(t)\n",
    "    8\n",
    "    \"\"\"\n",
    "    node_id = node_id or tree.root\n",
    "    node = tree.nodes[node_id]\n",
    "    return node.weight + sum(tree_weight(tree, c) for c in node.children)\n",
    "\n",
    "def verify_tree(tree, node_id=None):\n",
    "    node_id = node_id or tree.root\n",
    "    node = tree.nodes[node_id]\n",
    "    if not node.children:\n",
    "        return node.weight\n",
    "    ws = [verify_tree(tree, c) for c in node.children]\n",
    "    if len(set(ws)) != 1:\n",
    "        bad_idx = list((ws[i] == ws[i-1]) or (ws[i] == ws[i-2]) \n",
    "                       for i in range(len(ws))).index(False)\n",
    "        bad_node = tree.nodes[node.children[bad_idx]]\n",
    "        bad_weight = ws[bad_idx]\n",
    "        good_weight = ws[bad_idx - 1]\n",
    "        correction = (good_weight - bad_weight)\n",
    "        raise Exception('Failed verification at node <{}> due to child <{}>'.format(node_id, \n",
    "                                                                                    bad_node.id),\n",
    "                        node.children[bad_idx],\n",
    "                        bad_node.weight + correction)\n",
    "    else:\n",
    "        return node.weight + sum(ws)\n",
    "        \n",
    "\n",
    "def get_root(nodes):\n",
    "    \"\"\"\n",
    "    >>> get_root({'xyz': Node('xyz', 1, children=['abc']), 'abc': Node('abc', 2, [])})\n",
    "    'xyz'\n",
    "    \"\"\"\n",
    "    all_nodes = set(nodes.keys())\n",
    "    child_nodes = set(\n",
    "        itertools.chain.from_iterable(n.children for n in nodes.values()))\n",
    "    return (all_nodes - child_nodes).pop()\n",
    "        \n",
    "def solve_bottom_program(tree):\n",
    "    return tree.root"
   ]
  },
  {
   "cell_type": "code",
   "execution_count": 154,
   "metadata": {
    "collapsed": false
   },
   "outputs": [
    {
     "name": "stdout",
     "output_type": "stream",
     "text": [
      "Trying:\n",
      "    get_root({'xyz': Node('xyz', 1, children=['abc']), 'abc': Node('abc', 2, [])})\n",
      "Expecting:\n",
      "    'xyz'\n",
      "ok\n",
      "Trying:\n",
      "    parse_node(\"ktlj (57)\")\n",
      "Expecting:\n",
      "    Node(id='ktlj', weight=57, children=[])\n",
      "ok\n",
      "Trying:\n",
      "    parse_node(\"xyz (-7) -> abc, def, ghi\")\n",
      "Expecting:\n",
      "    Node(id='xyz', weight=-7, children=['abc', 'def', 'ghi'])\n",
      "ok\n",
      "Trying:\n",
      "    tree = parse_tree(\"ktlj (57)\\nxyz (-7) -> ktlj\")\n",
      "Expecting nothing\n",
      "ok\n",
      "Trying:\n",
      "    tree.root\n",
      "Expecting:\n",
      "    'xyz'\n",
      "ok\n",
      "Trying:\n",
      "    t = Tree('xyz', {'xyz': Node('xyz', 10, ['abc']), 'abc': Node('abc', -2, [])})\n",
      "Expecting nothing\n",
      "ok\n",
      "Trying:\n",
      "    tree_weight(t, 'xyz')\n",
      "Expecting:\n",
      "    8\n",
      "ok\n",
      "Trying:\n",
      "    tree_weight(t, 'abc')\n",
      "Expecting:\n",
      "    -2\n",
      "ok\n",
      "Trying:\n",
      "    tree_weight(t)\n",
      "Expecting:\n",
      "    8\n",
      "ok\n",
      "13 items had no tests:\n",
      "    __main__\n",
      "    __main__.Node\n",
      "    __main__.Node.children\n",
      "    __main__.Node.id\n",
      "    __main__.Node.weight\n",
      "    __main__.Tree\n",
      "    __main__.Tree.nodes\n",
      "    __main__.Tree.root\n",
      "    __main__.build_tree\n",
      "    __main__.np_impulse\n",
      "    __main__.nth\n",
      "    __main__.solve_bottom_program\n",
      "    __main__.verify_tree\n",
      "4 items passed all tests:\n",
      "   1 tests in __main__.get_root\n",
      "   2 tests in __main__.parse_node\n",
      "   2 tests in __main__.parse_tree\n",
      "   4 tests in __main__.tree_weight\n",
      "9 tests in 17 items.\n",
      "9 passed and 0 failed.\n",
      "Test passed.\n",
      "Root is: tknk\n"
     ]
    }
   ],
   "source": [
    "doctest.testmod(verbose=True)\n",
    "\n",
    "test_tree = parse_tree(\"\"\"\n",
    "pbga (66)\n",
    "xhth (57)\n",
    "ebii (61)\n",
    "havc (66)\n",
    "ktlj (57)\n",
    "fwft (72) -> ktlj, cntj, xhth\n",
    "qoyq (66)\n",
    "padx (45) -> pbga, havc, qoyq\n",
    "tknk (41) -> ugml, padx, fwft\n",
    "jptl (61)\n",
    "ugml (68) -> gyxo, ebii, jptl\n",
    "gyxo (61)\n",
    "cntj (57)\n",
    "\"\"\")\n",
    "\n",
    "print('Root is:', test_tree.root)\n",
    "assert test_tree.root == 'tknk'\n",
    "\n",
    "try:\n",
    "    verify_tree(test_tree)\n",
    "except Exception as e:\n",
    "    msg, bad_node, corrected_weight = e.args\n",
    "    assert corrected_weight == 60"
   ]
  },
  {
   "cell_type": "code",
   "execution_count": 158,
   "metadata": {
    "collapsed": false
   },
   "outputs": [
    {
     "name": "stdout",
     "output_type": "stream",
     "text": [
      "Part 1: root node it mwzaxaj\n",
      "Part 2: corrected weight is 1219\n"
     ]
    }
   ],
   "source": [
    "# Final answer\n",
    "with open('day7.txt') as f:\n",
    "    tree = parse_tree(f.read())\n",
    "    print('Part 1: root node it', tree.root)\n",
    "    try:\n",
    "        verify_tree(tree)\n",
    "    except Exception as e:\n",
    "        print('Part 2: corrected weight is', e.args[2])"
   ]
  },
  {
   "cell_type": "code",
   "execution_count": null,
   "metadata": {
    "collapsed": true
   },
   "outputs": [],
   "source": []
  }
 ],
 "metadata": {
  "kernelspec": {
   "display_name": "Python 3",
   "language": "python",
   "name": "python3"
  },
  "language_info": {
   "codemirror_mode": {
    "name": "ipython",
    "version": 3
   },
   "file_extension": ".py",
   "mimetype": "text/x-python",
   "name": "python",
   "nbconvert_exporter": "python",
   "pygments_lexer": "ipython3",
   "version": "3.5.1"
  }
 },
 "nbformat": 4,
 "nbformat_minor": 0
}
