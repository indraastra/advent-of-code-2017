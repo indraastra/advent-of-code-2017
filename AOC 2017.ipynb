{
 "cells": [
  {
   "cell_type": "markdown",
   "metadata": {},
   "source": [
    "# December 2017: Advent of Code"
   ]
  },
  {
   "cell_type": "markdown",
   "metadata": {},
   "source": [
    "## Common imports & library functions"
   ]
  },
  {
   "cell_type": "code",
   "execution_count": 33,
   "metadata": {
    "collapsed": true
   },
   "outputs": [],
   "source": [
    "from collections import defaultdict\n",
    "import doctest\n",
    "import heapq\n",
    "import itertools\n",
    "import math\n",
    "import numpy as np\n",
    "\n",
    "# Cribbed from norvig@\n",
    "def nth(iterable, n, default=None):\n",
    "    \"Returns the nth item of iterable, or a default value\"\n",
    "    return next(itertools.islice(iterable, n, None), default)"
   ]
  },
  {
   "cell_type": "markdown",
   "metadata": {},
   "source": [
    "## Day 1: Inverse Captcha"
   ]
  },
  {
   "cell_type": "code",
   "execution_count": null,
   "metadata": {
    "collapsed": true
   },
   "outputs": [],
   "source": [
    "def solve_captcha(captcha, offset=1):\n",
    "    \"\"\"\n",
    "    >>> solve_captcha('1122')\n",
    "    3\n",
    "    >>> solve_captcha('1111')\n",
    "    4\n",
    "    >>> solve_captcha('1234')\n",
    "    0\n",
    "    >>> solve_captcha('91212129')\n",
    "    9\n",
    "    >>> solve_captcha('1212', 2)\n",
    "    6\n",
    "    >>> solve_captcha('1221', 2)\n",
    "    0\n",
    "    >>> solve_captcha('123425', 3)\n",
    "    4\n",
    "    >>> solve_captcha('123123', 3)\n",
    "    12\n",
    "    >>> solve_captcha('12131415', 4)\n",
    "    4\n",
    "    \"\"\"\n",
    "    return sum(int(captcha[i]) for i in range(len(captcha))\n",
    "               if captcha[i] == captcha[i-offset])"
   ]
  },
  {
   "cell_type": "code",
   "execution_count": null,
   "metadata": {
    "collapsed": false
   },
   "outputs": [],
   "source": [
    "# Run unit tests\n",
    "doctest.testmod()"
   ]
  },
  {
   "cell_type": "code",
   "execution_count": null,
   "metadata": {
    "collapsed": false
   },
   "outputs": [],
   "source": [
    "# Final answer\n",
    "with open('day1_captcha.txt') as f:\n",
    "    captcha = f.read().strip()\n",
    "    print('Part 1: ', solve_captcha(captcha))\n",
    "    print('Part 2: ', solve_captcha(captcha, len(captcha)//2))"
   ]
  },
  {
   "cell_type": "markdown",
   "metadata": {},
   "source": [
    "## Day 2: Corruption Checksum"
   ]
  },
  {
   "cell_type": "code",
   "execution_count": null,
   "metadata": {
    "collapsed": true
   },
   "outputs": [],
   "source": [
    "def minmax_sum(row):\n",
    "    return max(row) - min(row)\n",
    "\n",
    "def even_quotient(row):\n",
    "    for i in range(len(row)):\n",
    "        for j in range(len(row)):\n",
    "            if i == j: continue\n",
    "            if row[i] % row[j] == 0: return row[i] // row[j]\n",
    "\n",
    "def solve_checksum(spreadsheet, row_checksum=minmax_sum):\n",
    "    \"\"\"\n",
    "    >>> solve_checksum('1 1\\\\n2 2', minmax_sum)\n",
    "    0\n",
    "    >>> solve_checksum('40 41\\\\n1 0 3 9', minmax_sum)\n",
    "    10\n",
    "    >>> solve_checksum('5 1 9 5\\\\n7 5 3\\\\n2 4 6 8', minmax_sum)\n",
    "    18\n",
    "    >>> solve_checksum('5 5\\\\n2 2\\\\n3 3', even_quotient)\n",
    "    3\n",
    "    >>> solve_checksum('5 9 2 8\\\\n9 4 7 3\\\\n3 8 6 5', even_quotient)\n",
    "    9\n",
    "    \"\"\"\n",
    "    np_spreadsheet = [[int(c) for c in l.split()] \n",
    "                      for l in spreadsheet.splitlines()]\n",
    "    return sum(row_checksum(row) for row in np_spreadsheet)"
   ]
  },
  {
   "cell_type": "code",
   "execution_count": null,
   "metadata": {
    "collapsed": false
   },
   "outputs": [],
   "source": [
    "# Run unit tests\n",
    "doctest.testmod()"
   ]
  },
  {
   "cell_type": "code",
   "execution_count": null,
   "metadata": {
    "collapsed": false
   },
   "outputs": [],
   "source": [
    "# Final answer\n",
    "with open('day2.txt') as f:\n",
    "    spreadsheet = f.read().strip()\n",
    "    print('Part 1: ', solve_checksum(spreadsheet, row_checksum=minmax_sum))\n",
    "    print('Part 2: ', solve_checksum(spreadsheet, row_checksum=even_quotient))"
   ]
  },
  {
   "cell_type": "markdown",
   "metadata": {},
   "source": [
    "### Day 3: Spiral Memory\n",
    "\n",
    "```\n",
    "37  36  35  34  33  32  31\n",
    "38  17  16  15  14  13  30\n",
    "39  18   5   4   3  12  29\n",
    "40  19   6   1   2  11  28\n",
    "41  20   7   8   9  10  27\n",
    "42  21  22  23  24  25  26\n",
    "43  44  45  46  47  48  49 ...\n",
    "```"
   ]
  },
  {
   "cell_type": "code",
   "execution_count": 83,
   "metadata": {
    "collapsed": false
   },
   "outputs": [],
   "source": [
    "def spiral_to_ring_size(spiral_coord):\n",
    "    return math.ceil(math.sqrt(spiral_coord)) | 1\n",
    "\n",
    "def ring_size_to_ring(ring_size):\n",
    "    return ring_size // 2 + 1\n",
    "\n",
    "def spiral_to_ring(spiral_coord):\n",
    "    \"\"\"\n",
    "    Returns the ring that the coordinate appears in, starting with 1 as the center.\n",
    "    \n",
    "    >>> spiral_to_ring(1)\n",
    "    1\n",
    "    >>> spiral_to_ring(4)\n",
    "    2\n",
    "    >>> spiral_to_ring(20)\n",
    "    3\n",
    "    >>> spiral_to_ring(49)\n",
    "    4\n",
    "    \"\"\"\n",
    "    return ring_size_to_ring(spiral_to_ring_size(spiral_coord))\n",
    "\n",
    "_right = lambda r: ((r-1, i) for i in range(-r+2, r))\n",
    "_top = lambda r: ((i, r-1) for i in range(r-2, -r, -1))\n",
    "_left = lambda r: ((-r+1, i) for i in range(r-2, -r, -1))\n",
    "_bottom = lambda r: ((i, -r+1) for i in range(-r+2, r))\n",
    "def ring_to_cartesians(ring):\n",
    "    \"\"\"\n",
    "    Returns the cartesian coordinates for cells in the ring in CCW order,\n",
    "    starting from the cell just above the bottom-right corner.\n",
    "    \n",
    "    >>> list(ring_to_cartesians(1))\n",
    "    [(0, 0)]\n",
    "    >>> list(ring_to_cartesians(2))\n",
    "    [(1, 0), (1, 1), (0, 1), (-1, 1), (-1, 0), (-1, -1), (0, -1), (1, -1)]\n",
    "    >>> list(ring_to_cartesians(3))\n",
    "    [(2, -1), (2, 0), (2, 1), (2, 2), (1, 2), (0, 2), (-1, 2), (-2, 2), (-2, 1), (-2, 0), (-2, -1), (-2, -2), (-1, -2), (0, -2), (1, -2), (2, -2)]\n",
    "    \"\"\"\n",
    "    if ring == 1:\n",
    "        return [(0, 0)]\n",
    "    return itertools.chain(_right(ring), _top(ring), _left(ring), _bottom(ring))\n",
    "\n",
    "def spiral_to_cartesian(spiral_coord):\n",
    "    \"\"\"\n",
    "    >>> spiral_to_cartesian(1)\n",
    "    (0, 0)\n",
    "    >>> spiral_to_cartesian(9)\n",
    "    (1, -1)\n",
    "    >>> spiral_to_cartesian(7)\n",
    "    (-1, -1)\n",
    "    >>> spiral_to_cartesian(28)\n",
    "    (3, 0)\n",
    "    \"\"\"\n",
    "    ring_size = spiral_to_ring_size(spiral_coord)\n",
    "    ring = ring_size_to_ring(ring_size)\n",
    "    inner_ring_size = max(ring_size-2, 0) ** 2\n",
    "    ring_coord = spiral_coord - inner_ring_size - 1\n",
    "    return nth(ring_to_cartesians(ring), ring_coord)\n",
    "\n",
    "def solve_shortest_distance(spiral_coord):\n",
    "    \"\"\"\n",
    "    >>> solve_shortest_distance(1)\n",
    "    0\n",
    "    >>> solve_shortest_distance(12)\n",
    "    3\n",
    "    >>> solve_shortest_distance(23)\n",
    "    2\n",
    "    >>> solve_shortest_distance(1024)\n",
    "    31\n",
    "    \"\"\"\n",
    "    x, y = spiral_to_cartesian(spiral_coord)\n",
    "    return abs(x) + abs(y)"
   ]
  },
  {
   "cell_type": "code",
   "execution_count": 84,
   "metadata": {
    "collapsed": false
   },
   "outputs": [
    {
     "data": {
      "text/plain": [
       "(0, 0)"
      ]
     },
     "execution_count": 84,
     "metadata": {},
     "output_type": "execute_result"
    }
   ],
   "source": [
    "spiral_to_cartesian(1)"
   ]
  },
  {
   "cell_type": "code",
   "execution_count": 85,
   "metadata": {
    "collapsed": false
   },
   "outputs": [
    {
     "data": {
      "text/plain": [
       "TestResults(failed=0, attempted=15)"
      ]
     },
     "execution_count": 85,
     "metadata": {},
     "output_type": "execute_result"
    }
   ],
   "source": [
    "# Run unit tests\n",
    "doctest.testmod()"
   ]
  },
  {
   "cell_type": "code",
   "execution_count": 86,
   "metadata": {
    "collapsed": false
   },
   "outputs": [
    {
     "name": "stdout",
     "output_type": "stream",
     "text": [
      "Part 1:  371\n"
     ]
    }
   ],
   "source": [
    "# Final answer\n",
    "print('Part 1: ', solve_shortest_distance(368078))"
   ]
  },
  {
   "cell_type": "code",
   "execution_count": 108,
   "metadata": {
    "collapsed": false
   },
   "outputs": [],
   "source": [
    "# Part 2 will require a total reimplementation...\n",
    "def generate_spiral():\n",
    "    ring = 1\n",
    "    while True:\n",
    "        for cartesian_coords in ring_to_cartesians(ring):\n",
    "            yield cartesian_coords\n",
    "        ring += 1\n",
    "\n",
    "def solve_shortest_distance2(spiral_coord):\n",
    "    \"\"\"\n",
    "    >>> solve_shortest_distance2(1)\n",
    "    0\n",
    "    >>> solve_shortest_distance2(12)\n",
    "    3\n",
    "    >>> solve_shortest_distance2(23)\n",
    "    2\n",
    "    >>> solve_shortest_distance2(1024)\n",
    "    31\n",
    "    \"\"\"\n",
    "    (x, y) = nth(generate_spiral(), spiral_coord - 1)\n",
    "    return abs(x) + abs(y)"
   ]
  },
  {
   "cell_type": "code",
   "execution_count": 109,
   "metadata": {
    "collapsed": false
   },
   "outputs": [
    {
     "name": "stdout",
     "output_type": "stream",
     "text": [
      "**********************************************************************\n",
      "File \"__main__\", line 9, in __main__.solve_first_larger_than\n",
      "Failed example:\n",
      "    solve_first_larger_than(3)\n",
      "Exception raised:\n",
      "    Traceback (most recent call last):\n",
      "      File \"/Users/vtalwar/anaconda3/envs/ml/lib/python3.5/doctest.py\", line 1320, in __run\n",
      "        compileflags, 1), test.globs)\n",
      "      File \"<doctest __main__.solve_first_larger_than[0]>\", line 1, in <module>\n",
      "        solve_first_larger_than(3)\n",
      "      File \"<ipython-input-90-218a354e9667>\", line 22, in solve_first_larger_than\n",
      "        total = sum_neighbors(grid, xy)\n",
      "      File \"<ipython-input-90-218a354e9667>\", line 3, in sum_neighbors\n",
      "        x, y = xy\n",
      "    TypeError: 'int' object is not iterable\n",
      "**********************************************************************\n",
      "File \"__main__\", line 11, in __main__.solve_first_larger_than\n",
      "Failed example:\n",
      "    solve_first_larger_than(12)\n",
      "Exception raised:\n",
      "    Traceback (most recent call last):\n",
      "      File \"/Users/vtalwar/anaconda3/envs/ml/lib/python3.5/doctest.py\", line 1320, in __run\n",
      "        compileflags, 1), test.globs)\n",
      "      File \"<doctest __main__.solve_first_larger_than[1]>\", line 1, in <module>\n",
      "        solve_first_larger_than(12)\n",
      "      File \"<ipython-input-90-218a354e9667>\", line 22, in solve_first_larger_than\n",
      "        total = sum_neighbors(grid, xy)\n",
      "      File \"<ipython-input-90-218a354e9667>\", line 3, in sum_neighbors\n",
      "        x, y = xy\n",
      "    TypeError: 'int' object is not iterable\n",
      "**********************************************************************\n",
      "File \"__main__\", line 13, in __main__.solve_first_larger_than\n",
      "Failed example:\n",
      "    solve_first_larger_than(23)\n",
      "Exception raised:\n",
      "    Traceback (most recent call last):\n",
      "      File \"/Users/vtalwar/anaconda3/envs/ml/lib/python3.5/doctest.py\", line 1320, in __run\n",
      "        compileflags, 1), test.globs)\n",
      "      File \"<doctest __main__.solve_first_larger_than[2]>\", line 1, in <module>\n",
      "        solve_first_larger_than(23)\n",
      "      File \"<ipython-input-90-218a354e9667>\", line 22, in solve_first_larger_than\n",
      "        total = sum_neighbors(grid, xy)\n",
      "      File \"<ipython-input-90-218a354e9667>\", line 3, in sum_neighbors\n",
      "        x, y = xy\n",
      "    TypeError: 'int' object is not iterable\n",
      "**********************************************************************\n",
      "File \"__main__\", line 15, in __main__.solve_first_larger_than\n",
      "Failed example:\n",
      "    solve_first_larger_than(500)\n",
      "Exception raised:\n",
      "    Traceback (most recent call last):\n",
      "      File \"/Users/vtalwar/anaconda3/envs/ml/lib/python3.5/doctest.py\", line 1320, in __run\n",
      "        compileflags, 1), test.globs)\n",
      "      File \"<doctest __main__.solve_first_larger_than[3]>\", line 1, in <module>\n",
      "        solve_first_larger_than(500)\n",
      "      File \"<ipython-input-90-218a354e9667>\", line 22, in solve_first_larger_than\n",
      "        total = sum_neighbors(grid, xy)\n",
      "      File \"<ipython-input-90-218a354e9667>\", line 3, in sum_neighbors\n",
      "        x, y = xy\n",
      "    TypeError: 'int' object is not iterable\n",
      "**********************************************************************\n",
      "1 items had failures:\n",
      "   4 of   4 in __main__.solve_first_larger_than\n",
      "***Test Failed*** 4 failures.\n"
     ]
    },
    {
     "data": {
      "text/plain": [
       "TestResults(failed=4, attempted=23)"
      ]
     },
     "execution_count": 109,
     "metadata": {},
     "output_type": "execute_result"
    }
   ],
   "source": [
    "doctest.testmod()"
   ]
  },
  {
   "cell_type": "code",
   "execution_count": 107,
   "metadata": {
    "collapsed": false
   },
   "outputs": [
    {
     "name": "stdout",
     "output_type": "stream",
     "text": [
      "Part 1:  371\n"
     ]
    }
   ],
   "source": [
    "# Final answer part 1 redux\n",
    "print('Part 1: ', solve_shortest_distance2(368078))"
   ]
  },
  {
   "cell_type": "code",
   "execution_count": 112,
   "metadata": {
    "collapsed": false
   },
   "outputs": [],
   "source": [
    "# Now, on to part 2\n",
    "def sum_neighbors(grid, xy):\n",
    "    x, y = xy\n",
    "    deltas = [(-1, -1), (-1, 0), (-1, 1), (0, 1), (1, 1), (1, 0), (1, -1), (0, -1)]\n",
    "    return sum(grid[(x+dx, y+dy)] for (dx, dy) in deltas)\n",
    "\n",
    "def solve_first_larger_than(seek_value):\n",
    "    \"\"\"\n",
    "    >>> solve_first_larger_than(3)\n",
    "    4\n",
    "    >>> solve_first_larger_than(12)\n",
    "    23\n",
    "    >>> solve_first_larger_than(23)\n",
    "    25\n",
    "    >>> solve_first_larger_than(500)\n",
    "    747\n",
    "    \"\"\"\n",
    "    grid = defaultdict(int)\n",
    "    for xy in generate_spiral():\n",
    "        total = sum_neighbors(grid, xy) or 1\n",
    "        if total > seek_value:\n",
    "            return total\n",
    "        grid[xy] = total"
   ]
  },
  {
   "cell_type": "code",
   "execution_count": 113,
   "metadata": {
    "collapsed": false
   },
   "outputs": [
    {
     "data": {
      "text/plain": [
       "TestResults(failed=0, attempted=23)"
      ]
     },
     "execution_count": 113,
     "metadata": {},
     "output_type": "execute_result"
    }
   ],
   "source": [
    "doctest.testmod()"
   ]
  },
  {
   "cell_type": "code",
   "execution_count": 114,
   "metadata": {
    "collapsed": false
   },
   "outputs": [
    {
     "name": "stdout",
     "output_type": "stream",
     "text": [
      "Part 2:  369601\n"
     ]
    }
   ],
   "source": [
    "# Final answer part 2\n",
    "print('Part 2: ', solve_first_larger_than(368078))"
   ]
  },
  {
   "cell_type": "code",
   "execution_count": null,
   "metadata": {
    "collapsed": true
   },
   "outputs": [],
   "source": []
  }
 ],
 "metadata": {
  "kernelspec": {
   "display_name": "Python 3",
   "language": "python",
   "name": "python3"
  },
  "language_info": {
   "codemirror_mode": {
    "name": "ipython",
    "version": 3
   },
   "file_extension": ".py",
   "mimetype": "text/x-python",
   "name": "python",
   "nbconvert_exporter": "python",
   "pygments_lexer": "ipython3",
   "version": "3.5.1"
  }
 },
 "nbformat": 4,
 "nbformat_minor": 0
}
